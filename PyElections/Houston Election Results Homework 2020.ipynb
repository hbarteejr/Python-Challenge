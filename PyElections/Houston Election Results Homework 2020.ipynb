{
 "cells": [
  {
   "cell_type": "code",
   "execution_count": null,
   "metadata": {},
   "outputs": [],
   "source": [
    "import csv\n",
    "import os "
   ]
  },
  {
   "cell_type": "code",
   "execution_count": null,
   "metadata": {},
   "outputs": [],
   "source": [
    "csvpath = os.path.join(\"PyElections/Resources/houston election data.csv\")"
   ]
  },
  {
   "cell_type": "code",
   "execution_count": null,
   "metadata": {},
   "outputs": [],
   "source": [
    "# Variables to Track\n",
    "votes = []\n",
    "winner_votes = []\n",
    "total_candidates = []\n",
    "greatest_votes = []\n",
    "candidate_options = []\n",
    "candidate_votes = []"
   ]
  },
  {
   "cell_type": "code",
   "execution_count": null,
   "metadata": {},
   "outputs": [],
   "source": [
    "for d in csv.DictReader(open('houston_election_data.csv'), delimiter='\\t'):\n",
    "    votes.append(int(d['votes']))\n",
    "    winner_votes.append(int(d['winner_votes']))\n",
    "    total_candidates.append(int(d['total_candidates']))\n",
    "    greatest_votes.append(int(d['greatest_votes']))\n",
    "    candidate_options.append(int(d['candidate_options']))\n",
    "    candidate_votes.append(int(d['candidates_votes']))"
   ]
  },
  {
   "cell_type": "code",
   "execution_count": null,
   "metadata": {},
   "outputs": [],
   "source": [
    "with open(csvpath) as csvfile:\n",
    " reader = csv.DictReader(csvfile)"
   ]
  },
  {
   "cell_type": "code",
   "execution_count": null,
   "metadata": {},
   "outputs": [],
   "source": [
    "for row in reader:\n",
    " votes = votes + 1\n",
    " total_candidates = row[\"Candidate\"] "
   ]
  },
  {
   "cell_type": "code",
   "execution_count": null,
   "metadata": {},
   "outputs": [],
   "source": [
    "if row[\"Candidate\"] not in candidate_options:\n",
    " candidate_options.append(row[\"Candidate\"])\n",
    " candidate_votes[row[\"Candidate\"]] = 1"
   ]
  },
  {
   "cell_type": "code",
   "execution_count": null,
   "metadata": {},
   "outputs": [],
   "source": [
    "else:\n",
    " candidate_votes[row[\"Candidate\"]] = candidate_votes[row[\"Candidate\"]] + 1"
   ]
  },
  {
   "cell_type": "code",
   "execution_count": null,
   "metadata": {},
   "outputs": [],
   "source": [
    "# Determine the Winner:\n",
    "if (votes > winner_votes):\n",
    " greatest_votes[1] = candidate_votes\n",
    " greatest_votes[0] = row[\"Candidate\"]"
   ]
  },
  {
   "cell_type": "code",
   "execution_count": null,
   "metadata": {},
   "outputs": [],
   "source": [
    "print(\"Election Results\")\n",
    "print(\"-------------------------\")\n",
    "print(\"Total Votes \" + str(votes))\n",
    "print(\"-------------------------\")\n",
    "#results\n",
    "for candidate in candidate_votes:\n",
    "print(candidate + \" \" + str(round(((candidate_votes[candidate]/votes)*100))) + \"%\" + \" (\" + str(candidate_votes[candidate]) + \")\") \n",
    "candidate_results = (candidate + \" \" + str(round(((candidate_votes[candidate]/votes)*100))) + \"%\" + \" (\" + str(candidate_votes[candidate]) + \")\") \n",
    "candidate_votes"
   ]
  },
  {
   "cell_type": "code",
   "execution_count": null,
   "metadata": {},
   "outputs": [],
   "source": [
    "winner = sorted(candidate_votes.items(),)"
   ]
  },
  {
   "cell_type": "code",
   "execution_count": null,
   "metadata": {},
   "outputs": [],
   "source": [
    "#results\n",
    "print(\"-------------------------\")\n",
    "print(\"Winner: \" + str(winner[1]))\n",
    "print(\"-------------------------\")"
   ]
  },
  {
   "cell_type": "code",
   "execution_count": null,
   "metadata": {},
   "outputs": [],
   "source": [
    "# Output Files\n",
    "with open(csvpath_output, \"w\") as txt_file:\n",
    "txt_file.write(\"Election Results\")\n",
    "txt_file.write(\"\\n\")\n",
    "txt_file.write(\"-------------------------\")\n",
    "txt_file.write(\"\\n\")\n",
    "txt_file.write(candidate + \" \" + str(round(((candidate_votes[candidate]/votes)*100))) + \"%\" + \" (\" + str(candidate_votes[candidate]) + \")\")\n",
    "txt_file.write(str(winner))\n",
    "txt_file.write(\"\\n\")\n",
    "txt_file.write(\"-------------------------\")\n",
    "txt_file.write(\"\\n\")\n",
    "txt_file.write(\"Winner: \" + str(winner[1]))\n",
    "txt_file.write(\"\\n\")\n",
    "txt_file.write(\"Total Votes \" + str(votes))"
   ]
  },
  {
   "cell_type": "code",
   "execution_count": null,
   "metadata": {},
   "outputs": [],
   "source": []
  },
  {
   "cell_type": "code",
   "execution_count": null,
   "metadata": {},
   "outputs": [],
   "source": []
  }
 ],
 "metadata": {
  "kernelspec": {
   "display_name": "Python 3",
   "language": "python",
   "name": "python3"
  },
  "language_info": {
   "codemirror_mode": {
    "name": "ipython",
    "version": 3
   },
   "file_extension": ".py",
   "mimetype": "text/x-python",
   "name": "python",
   "nbconvert_exporter": "python",
   "pygments_lexer": "ipython3",
   "version": "3.7.4"
  }
 },
 "nbformat": 4,
 "nbformat_minor": 2
}
