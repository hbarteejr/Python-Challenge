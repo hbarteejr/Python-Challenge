{
 "cells": [
  {
   "cell_type": "code",
   "execution_count": null,
   "metadata": {},
   "outputs": [],
   "source": [
    "import csv\n",
    "import os"
   ]
  },
  {
   "cell_type": "code",
   "execution_count": null,
   "metadata": {},
   "outputs": [],
   "source": [
    "#path to collect data\n",
    "csvpath = os.path.join(\"Python_Challenge\\PyFinance/budget_data.csv\")\n",
    "csvpath_output = (\"PyFinance/PyBank/budget_data.txt\")"
   ]
  },
  {
   "cell_type": "code",
   "execution_count": null,
   "metadata": {},
   "outputs": [],
   "source": [
    "# Variables to Track\n",
    "total_months = []\n",
    "total_profit_loss = []\n",
    "prev_profit_loss = []\n",
    "profit_loss_change = []\n",
    "greatest_increase = []\n",
    "greatest_decrease = []\n",
    "profit_loss_changes = []"
   ]
  },
  {
   "cell_type": "code",
   "execution_count": null,
   "metadata": {},
   "outputs": [],
   "source": [
    "# Read File\n",
    "with open(csvpath) as csvfile:\n",
    " reader = csv.DictReader(csvfile)"
   ]
  },
  {
   "cell_type": "code",
   "execution_count": null,
   "metadata": {},
   "outputs": [],
   "source": [
    "#loop through rows and add up the total months and profit losses \n",
    "for row in reader:\n",
    "    \n",
    " total_months = total_months + 1\n",
    " total_profit_loss = total_profit_loss + int(row[\"Profit/Losses\"])\n",
    " print(row)"
   ]
  },
  {
   "cell_type": "code",
   "execution_count": null,
   "metadata": {},
   "outputs": [],
   "source": [
    "# Keep track of changes\n",
    "profit_loss_change = int(row[\"Profit/Losses\"]) - prev_profit_loss\n",
    "print(profit_loss_change)"
   ]
  },
  {
   "cell_type": "code",
   "execution_count": null,
   "metadata": {},
   "outputs": [],
   "source": [
    "# Reset the value of prev_profit_loss to the complete row \n",
    "prev_profit_loss = int(row[\"Profit/Losses\"])\n",
    "print(prev_profit_loss)"
   ]
  },
  {
   "cell_type": "code",
   "execution_count": null,
   "metadata": {},
   "outputs": [],
   "source": [
    "# Determine the greatest increase\n",
    "if (profit_loss_change > greatest_increase[1]):\n",
    "greatest_increase[1] = profit_loss_change\n",
    "greatest_increase[0] = row[\"Date\"]"
   ]
  },
  {
   "cell_type": "code",
   "execution_count": null,
   "metadata": {},
   "outputs": [],
   "source": [
    "if (profit_loss_change < greatest_decrease[1]):\n",
    "greatest_decrease[1] = profit_loss_change\n",
    "greatest_decrease[0] = row[\"Date\"]"
   ]
  },
  {
   "cell_type": "code",
   "execution_count": null,
   "metadata": {},
   "outputs": [],
   "source": [
    "# Add to the profit_loss_changes list\n",
    "profit_loss_changes.append(int(row[\"Profit/Losses\"]))"
   ]
  },
  {
   "cell_type": "code",
   "execution_count": null,
   "metadata": {},
   "outputs": [],
   "source": [
    "# create the profit loss average\n",
    "profit_loss_avg = sum(profit_loss_changes) / len(profit_loss_changes)"
   ]
  },
  {
   "cell_type": "code",
   "execution_count": null,
   "metadata": {},
   "outputs": [],
   "source": [
    "# Show Output\n",
    "print(\"Financial Analysis\")\n",
    "print(\"Total Months: \" + str (total_months))\n",
    "print(\"Total:\" + \"$\" + str (total_profit_loss))\n",
    "print(\"Average Change:\" + \"$\" + str (round(sum(profit_loss_changes)/len(profit_loss_changes),2)))\n",
    "print(\"Greatest Increase: \" + str(greatest_increase[0]) + \" ($\" +  str(greatest_increase[1]) + \")\") \n",
    "print(\"Greatest Decrease: \" + str(greatest_decrease[0]) + \" ($\" +  str(greatest_decrease[1]) + \")\")"
   ]
  },
  {
   "cell_type": "code",
   "execution_count": null,
   "metadata": {},
   "outputs": [],
   "source": [
    "# Output Files\n",
    "with open(csvpath_output, \"w\") as txt_file:\n",
    "txt_file.write(\"Total Months: \" + str(total_months))\n",
    "txt_file.write(\"\\n\")\n",
    "txt_file.write(\"Total: \" + \"$\" + str(total_profit_loss))\n",
    "txt_file.write(\"\\n\")\n",
    "txt_file.write(\"Average Change: \" + \"$\" + str(round(sum(profit_loss_changes) / len(profit_loss_changes),2)))\n",
    "txt_file.write(\"\\n\")\n",
    "txt_file.write(\"Greatest Increase: \" + str(greatest_increase[0]) + \" ($\" + str(greatest_increase[1]) + \")\") \n",
    "txt_file.write(\"\\n\")\n",
    "txt_file.write(\"Greatest Decrease: \" + str(greatest_decrease[0]) + \" ($\" + str(greatest_decrease[1]) + \")\")"
   ]
  },
  {
   "cell_type": "code",
   "execution_count": null,
   "metadata": {},
   "outputs": [],
   "source": []
  }
 ],
 "metadata": {
  "kernelspec": {
   "display_name": "Python 3",
   "language": "python",
   "name": "python3"
  },
  "language_info": {
   "codemirror_mode": {
    "name": "ipython",
    "version": 3
   },
   "file_extension": ".py",
   "mimetype": "text/x-python",
   "name": "python",
   "nbconvert_exporter": "python",
   "pygments_lexer": "ipython3",
   "version": "3.7.4"
  }
 },
 "nbformat": 4,
 "nbformat_minor": 2
}
